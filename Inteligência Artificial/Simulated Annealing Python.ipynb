{
 "cells": [
  {
   "cell_type": "markdown",
   "metadata": {},
   "source": [
    "Questão 4- "
   ]
  },
  {
   "cell_type": "markdown",
   "metadata": {},
   "source": [
    "Primeiro iremos importar as bibliotecas e definir a função utilizada para obter o mínimo."
   ]
  },
  {
   "cell_type": "code",
   "execution_count": 1,
   "metadata": {},
   "outputs": [],
   "source": [
    "from matplotlib import pyplot as plt\n",
    "import numpy as np \n",
    "import math\n",
    "\n",
    "def funcao(x1,x2,x3,x4,x5):\n",
    "\tfuncao = 50 + x1**2 - 10*np.cos(2*math.pi*x1) + x2**2 - 10*np.cos(2*math.pi*x2) + x3**2 - 10*np.cos(2*math.pi*x3) + x4**2 - 10*np.cos(2*math.pi*x4) + x5**2 - 10*np.cos(2*math.pi*x5) \n",
    "\treturn funcao\n",
    "\n",
    "funcaovetorizada = np.vectorize(funcao)\n",
    "x1 = np.linspace(-1, 1, num = 1000000)\n",
    "x2 = np.linspace(-1, 1, num = 1000000)\n",
    "x3 = np.linspace(-1, 1, num = 1000000)\n",
    "x4 = np.linspace(-1, 1, num = 1000000)\n",
    "x5 = np.linspace(-1, 1, num = 1000000)"
   ]
  },
  {
   "cell_type": "markdown",
   "metadata": {},
   "source": [
    "Agora nós vamos efetivamente fazer a função Simulated Annealing (SA)\n",
    "O código acabou extenso devido a grande quantidade de variáveis da função."
   ]
  },
  {
   "cell_type": "code",
   "execution_count": 2,
   "metadata": {},
   "outputs": [],
   "source": [
    "def SA(espacobusca1, espacobusca2, espacobusca3, espacobusca4, espacobusca5, func, Temperatura):\n",
    "    scale = np.sqrt(Temperatura) #Para ajudar a escolher o vizinho\n",
    "    # Escolhendo os pontos de partida\n",
    "    inicio1 = np.random.choice(espacobusca1)\n",
    "    inicio2 = np.random.choice(espacobusca2)\n",
    "    inicio3 = np.random.choice(espacobusca3)\n",
    "    inicio4 = np.random.choice(espacobusca4)\n",
    "    inicio5 = np.random.choice(espacobusca5)\n",
    "    x1 = inicio1 * 1\n",
    "    x2 = inicio2 * 1\n",
    "    x3 = inicio3 * 1\n",
    "    x4 = inicio4 * 1\n",
    "    x5 = inicio5 * 1\n",
    "    print(\"x1 Inicial: \", x1)\n",
    "    print(\"x2 Inicial: \", x2)\n",
    "    print(\"x3 Inicial: \", x3)\n",
    "    print(\"x4 Inicial: \", x4)\n",
    "    print(\"x5 Inicial: \", x5)\n",
    "    atual = func(x1,x2,x3,x4,x5)\n",
    "    # Teste para parar o algoritmo se a Temperatura atingir um valor muito baixo.\n",
    "    while Temperatura > 0.00000000000000001: \n",
    "        # Adicionando o ruído e escolhendo o vizinho de cada variável\n",
    "        prop1 = x1 + np.random.normal()*scale \n",
    "        prop2 = x2 + np.random.normal()*scale\n",
    "        prop3 = x3 + np.random.normal()*scale \n",
    "        prop4 = x4 + np.random.normal()*scale\n",
    "        prop5 = x5 + np.random.normal()*scale \n",
    "        # Verificando as propostas para cada variável\n",
    "        # Para o problema da minimização\n",
    "        if prop1 > 1 or prop1 < 0 or np.log(np.random.rand()) * Temperatura < \t1-np.e**-(func(prop1,prop2,prop3,prop4,prop5) - atual): \n",
    "            prop1 = x1\n",
    "        x1 = prop1\n",
    "\n",
    "        if prop2 > 1 or prop2 < 0 or np.log(np.random.rand()) * Temperatura < 1-np.e**-(func(prop1,prop2,prop3,prop4,prop5) - atual): \n",
    "            prop2 = x2\n",
    "        x2 = prop2\n",
    "\n",
    "        if prop3 > 1 or prop3 < 0 or np.log(np.random.rand()) * Temperatura < 1-np.e**-(func(prop1,prop2,prop3,prop4,prop5) - atual): \n",
    "            prop3 = x3\n",
    "        x3 = prop3\n",
    "\n",
    "        if prop4 > 1 or prop4 < 0 or np.log(np.random.rand()) * Temperatura < 1-np.e**-(func(prop1,prop2,prop3,prop4,prop5) - atual): \n",
    "            prop4 = x4\n",
    "        x4 = prop4\n",
    "\n",
    "        if prop5 > 1 or prop5 < 0 or np.log(np.random.rand()) * Temperatura < 1-np.e**-(func(prop1,prop2,prop3,prop4,prop5) - atual): \n",
    "            prop5 = x5\n",
    "        x5 = prop5\n",
    "        \n",
    "        atual = func(x1,x2,x3,x4,x5)\n",
    "        Temperatura = 0.99*Temperatura # Esfriando a temperatura em 0.0001% a cada iteração\n",
    "    return x1, x2, x3, x4, x5, funcao(x1,x2,x3,x4,x5)"
   ]
  },
  {
   "cell_type": "markdown",
   "metadata": {},
   "source": [
    "E agora nós vamos chamar a função e printar os resultados."
   ]
  },
  {
   "cell_type": "code",
   "execution_count": 3,
   "metadata": {
    "scrolled": true
   },
   "outputs": [
    {
     "name": "stdout",
     "output_type": "stream",
     "text": [
      "x1 Inicial:  -0.4096354096354097\n",
      "x2 Inicial:  0.6700496700496699\n",
      "x3 Inicial:  0.40377540377540355\n",
      "x4 Inicial:  0.32569932569932547\n",
      "x5 Inicial:  0.36561536561536556\n",
      "x1:  0.090827503594829\n",
      "x2:  0.0005429611843551507\n",
      "x3:  0.031363518598119144\n",
      "x4:  0.009011773489299914\n",
      "x5:  0.004048953351825929\n",
      "Valor da funcao:  1.8068870993978603\n"
     ]
    }
   ],
   "source": [
    "x1, x2, x3, x4, x5, valorfuncao = SA(x1, x2, x3, x4,x5, funcao, Temperatura = 4)\n",
    "print(\"x1: \", x1)\n",
    "print(\"x2: \", x2)\n",
    "print(\"x3: \", x3)\n",
    "print(\"x4: \", x4)\n",
    "print(\"x5: \", x5)\n",
    "print(\"Valor da funcao: \", valorfuncao)"
   ]
  },
  {
   "cell_type": "code",
   "execution_count": null,
   "metadata": {},
   "outputs": [],
   "source": []
  },
  {
   "cell_type": "code",
   "execution_count": null,
   "metadata": {},
   "outputs": [],
   "source": []
  }
 ],
 "metadata": {
  "kernelspec": {
   "display_name": "Python 3",
   "language": "python",
   "name": "python3"
  },
  "language_info": {
   "codemirror_mode": {
    "name": "ipython",
    "version": 3
   },
   "file_extension": ".py",
   "mimetype": "text/x-python",
   "name": "python",
   "nbconvert_exporter": "python",
   "pygments_lexer": "ipython3",
   "version": "3.6.5"
  }
 },
 "nbformat": 4,
 "nbformat_minor": 2
}
